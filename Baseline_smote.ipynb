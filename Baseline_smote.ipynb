{
  "nbformat": 4,
  "nbformat_minor": 0,
  "metadata": {
    "kernelspec": {
      "display_name": "Python 3",
      "language": "python",
      "name": "python3"
    },
    "language_info": {
      "codemirror_mode": {
        "name": "ipython",
        "version": 3
      },
      "file_extension": ".py",
      "mimetype": "text/x-python",
      "name": "python",
      "nbconvert_exporter": "python",
      "pygments_lexer": "ipython3",
      "version": "3.7.3"
    },
    "colab": {
      "name": "Baseline-smote.ipynb",
      "provenance": []
    }
  },
  "cells": [
    {
      "cell_type": "markdown",
      "metadata": {
        "id": "3VFOxviI5Trr",
        "colab_type": "text"
      },
      "source": [
        "Disclaimer:\n",
        "I was not able to import the data_cleaning collab file as a module so for the moment this is a copy of data_cleaning with some addition at the end to run a quick baseline with scikit learn \n",
        "\n"
      ]
    },
    {
      "cell_type": "code",
      "metadata": {
        "id": "0BS30CgINFJ3",
        "colab_type": "code",
        "colab": {}
      },
      "source": [
        "import os\n",
        "import pandas as pd\n",
        "import nltk\n",
        "from nltk.corpus import stopwords\n",
        "import re\n",
        "import matplotlib.pyplot as plt"
      ],
      "execution_count": 0,
      "outputs": []
    },
    {
      "cell_type": "code",
      "metadata": {
        "id": "MBu-64Pr6fHF",
        "colab_type": "code",
        "colab": {}
      },
      "source": [
        "import xgboost as xgb\n",
        "from tqdm import tqdm\n",
        "from sklearn.svm import SVC\n",
        "from sklearn.pipeline import Pipeline, FeatureUnion\n",
        "from sklearn.model_selection import GridSearchCV,train_test_split\n",
        "from sklearn.feature_extraction.text import TfidfVectorizer,CountVectorizer\n",
        "from sklearn.decomposition import TruncatedSVD\n",
        "from sklearn.linear_model import LogisticRegression\n",
        "from sklearn.naive_bayes import MultinomialNB\n",
        "from sklearn import preprocessing, decomposition, model_selection, metrics, pipeline,linear_model\n",
        "from sklearn.metrics import confusion_matrix\n",
        "from sklearn.metrics import precision_recall_fscore_support, accuracy_score\n",
        "from keras.preprocessing import text, sequence\n",
        "from keras import layers, models, optimizers\n",
        "import keras\n",
        "import re\n",
        "from sklearn.pipeline import Pipeline\n",
        "from sklearn.metrics import roc_auc_score"
      ],
      "execution_count": 0,
      "outputs": []
    },
    {
      "cell_type": "code",
      "metadata": {
        "id": "K8APoHzMwhhg",
        "colab_type": "code",
        "colab": {}
      },
      "source": [
        "!wget https://propaganda.qcri.org/semeval2020-task11/data/datasets-v2.tgz\n",
        "!tar xzvf datasets-v2.tgz"
      ],
      "execution_count": 0,
      "outputs": []
    },
    {
      "cell_type": "code",
      "metadata": {
        "id": "1GpG8QriNFJ8",
        "colab_type": "code",
        "colab": {}
      },
      "source": [
        "train_articles = os.listdir(\"datasets/train-articles\")\n",
        "train_labels_tags_span = os.listdir(\"datasets/train-labels-task1-span-identification\")\n",
        "train_tags_technique = os.listdir(\"datasets/train-labels-task2-technique-classification\")\n",
        "train_articles.sort()\n",
        "train_labels_tags_span.sort()"
      ],
      "execution_count": 0,
      "outputs": []
    },
    {
      "cell_type": "markdown",
      "metadata": {
        "id": "LzUZks6SNFJ_",
        "colab_type": "text"
      },
      "source": [
        "Step 1: Gather tables from Task 1 folder and place them into a dict type where the article number is the key"
      ]
    },
    {
      "cell_type": "code",
      "metadata": {
        "id": "_A4E3iZXNFKA",
        "colab_type": "code",
        "outputId": "de768023-1534-47bd-c959-05eb1fa39a70",
        "colab": {
          "base_uri": "https://localhost:8080/",
          "height": 34
        }
      },
      "source": [
        "# Dictionary containing news articlc\n",
        "propTagsSpan = {}\n",
        "\n",
        "for i in range(len(train_articles)):\n",
        "    article = train_articles[i]\n",
        "    #removing .txt file extension\n",
        "    articleNoExt = os.path.splitext(article)[0]\n",
        "    #replace train articles with the same name \n",
        "    train_articles[i] = articleNoExt\n",
        "    #removing article\n",
        "    articleNo = articleNoExt.replace('article','')\n",
        "    tagPath = \"datasets/train-labels-task1-span-identification/\"+ articleNoExt + \".task1-SI.labels\"\n",
        "    with open(tagPath) as r:\n",
        "        tags = r.readlines()\n",
        "        for i in range(len(tags)):\n",
        "            tag = tags[i]\n",
        "            tag = tag.replace(\"\\t\",\" \")\n",
        "            tag = tag.replace(\"\\n\",\" \")\n",
        "            tags[i] = tag\n",
        "        propTagsSpan[articleNoExt] = tags\n",
        "    r.close()\n",
        "    \n",
        "print(propTagsSpan[train_articles[0]])\n",
        "    "
      ],
      "execution_count": 0,
      "outputs": [
        {
          "output_type": "stream",
          "text": [
            "['111111111 265 323 ', '111111111 1795 1935 ', '111111111 149 157 ', '111111111 1069 1091 ', '111111111 1334 1462 ', '111111111 1577 1616 ', '111111111 2023 2086 ']\n"
          ],
          "name": "stdout"
        }
      ]
    },
    {
      "cell_type": "markdown",
      "metadata": {
        "id": "Ggn7lcekNFKE",
        "colab_type": "text"
      },
      "source": [
        "Step 2: Do the same for task 2"
      ]
    },
    {
      "cell_type": "code",
      "metadata": {
        "id": "6_XJXSDgNFKF",
        "colab_type": "code",
        "outputId": "a89e1ef5-7d20-4efe-ea4e-a01020c90262",
        "colab": {
          "base_uri": "https://localhost:8080/",
          "height": 34
        }
      },
      "source": [
        "propagandaTagTechnique = os.listdir(\"datasets/train-labels-task2-technique-classification\")\n",
        "propagandaTagTechnique.sort()\n",
        "propTagsTechnique = {}\n",
        "\n",
        "for i in range(len(train_articles)):\n",
        "    article = train_articles[i]\n",
        "    #removing .txt file extension\n",
        "    articleNoExt = os.path.splitext(article)[0]\n",
        "    #replace train articles with the same name \n",
        "    train_articles[i] = articleNoExt\n",
        "    #removing article\n",
        "    articleNo = articleNoExt.replace('article','')\n",
        "    tagPath = \"datasets/train-labels-task2-technique-classification/\"+ articleNoExt + \".task2-TC.labels\"\n",
        "    \n",
        "    with open(tagPath) as r:\n",
        "        tags = r.readlines()\n",
        "        for i in range(len(tags)):\n",
        "            tag = tags[i]\n",
        "            tag = tag.replace(articleNo, \" \")\n",
        "            tag = tag.replace(\"\\t\",\" \")\n",
        "            tag = tag.replace(\"\\n\",\" \")\n",
        "            tags[i] = tag\n",
        "        propTagsTechnique [articleNoExt] = tags\n",
        "    r.close()\n",
        "    \n",
        "print(propTagsTechnique[train_articles[0]])\n",
        "    "
      ],
      "execution_count": 0,
      "outputs": [
        {
          "output_type": "stream",
          "text": [
            "['  Appeal_to_Authority 265 323 ', '  Appeal_to_Authority 1795 1935 ', '  Doubt 149 157 ', '  Repetition 1069 1091 ', '  Appeal_to_fear-prejudice 1334 1462 ', '  Appeal_to_fear-prejudice 1577 1616 ', '  Appeal_to_fear-prejudice 1856 1910 ', '  Appeal_to_fear-prejudice 2023 2086 ']\n"
          ],
          "name": "stdout"
        }
      ]
    },
    {
      "cell_type": "markdown",
      "metadata": {
        "id": "dHVCqrlsNFKI",
        "colab_type": "text"
      },
      "source": [
        "Step 3: Put sentences that have annotation \"propoganda\" as a list"
      ]
    },
    {
      "cell_type": "code",
      "metadata": {
        "id": "q8U8XkjqNFKJ",
        "colab_type": "code",
        "outputId": "9533e95b-b39e-43bd-d040-9408877db89e",
        "colab": {
          "base_uri": "https://localhost:8080/",
          "height": 34
        }
      },
      "source": [
        "propoganda_sent_span = []\n",
        "\n",
        "for article in train_articles:\n",
        "    article_path = \"datasets/train-articles/\" + article + \".txt\"\n",
        "    tags = propTagsSpan[article]\n",
        "    \n",
        "    with open(article_path, encoding=\"utf-8\") as r:\n",
        "        entireArticle = r.read()\n",
        "        for tag in tags:\n",
        "            tag = tag.split()\n",
        "            start = int(tag[1])\n",
        "            end = int(tag[2])\n",
        "            \n",
        "            tag_line = entireArticle[start:end]\n",
        "            tag_line = tag_line.replace(\"\\n\", \" \")\n",
        "            tag_line = tag_line.replace(\"\\t\", \" \")\n",
        "            \n",
        "            propoganda_sent_span.append(tag_line)\n",
        "    r.close()\n",
        "\n",
        "print(propoganda_sent_span[0])"
      ],
      "execution_count": 0,
      "outputs": [
        {
          "output_type": "stream",
          "text": [
            "The next transmission could be more pronounced or stronger\n"
          ],
          "name": "stdout"
        }
      ]
    },
    {
      "cell_type": "markdown",
      "metadata": {
        "id": "SZ5Pxi3ONFKM",
        "colab_type": "text"
      },
      "source": [
        "Step 4: Create a dictionary with the keys being the propoganda sentences and the values being their associated propoganda type. "
      ]
    },
    {
      "cell_type": "code",
      "metadata": {
        "id": "8Bis2ELYNFKN",
        "colab_type": "code",
        "colab": {}
      },
      "source": [
        "propoganda_techniques = {}\n",
        "propoganda_techniques[\"Sentence\"] = []\n",
        "propoganda_techniques[\"Technique\"] = []\n",
        "\n",
        "for article in train_articles:\n",
        "    article_path = \"datasets/train-articles/\" + article + \".txt\"\n",
        "    tags = propTagsTechnique[article]\n",
        "    \n",
        "    with open(article_path, encoding=\"utf-8\") as r:\n",
        "        entireArticle = r.read()\n",
        "        for tag in tags:\n",
        "            tag = tag.split()\n",
        "            propoganda_techniques[\"Technique\"].append(tag[0])\n",
        "            start = int(tag[1])\n",
        "            end = int(tag[2])\n",
        "            \n",
        "            tag_line = entireArticle[start:end]\n",
        "            tag_line = tag_line.replace(\"\\n\", \" \")\n",
        "            tag_line = tag_line.replace(\"\\t\", \" \")\n",
        "            propoganda_techniques[\"Sentence\"].append(tag_line)     \n",
        "    r.close()  "
      ],
      "execution_count": 0,
      "outputs": []
    },
    {
      "cell_type": "markdown",
      "metadata": {
        "id": "YdoXPYa-NFKQ",
        "colab_type": "text"
      },
      "source": [
        "Step 5: Using the list of propoganda sentences to create a list of non propoganda sentences"
      ]
    },
    {
      "cell_type": "markdown",
      "metadata": {
        "id": "U3DkcDQTy7Z7",
        "colab_type": "text"
      },
      "source": [
        "Step 6: Convert dictionary into DataFrame\n"
      ]
    },
    {
      "cell_type": "code",
      "metadata": {
        "id": "p9XPUraRNFKR",
        "colab_type": "code",
        "outputId": "45398914-4b02-4056-becd-8ad861efc452",
        "colab": {
          "base_uri": "https://localhost:8080/",
          "height": 416
        }
      },
      "source": [
        "df = pd.DataFrame.from_dict(propoganda_techniques)\n",
        "df"
      ],
      "execution_count": 0,
      "outputs": [
        {
          "output_type": "execute_result",
          "data": {
            "text/html": [
              "<div>\n",
              "<style scoped>\n",
              "    .dataframe tbody tr th:only-of-type {\n",
              "        vertical-align: middle;\n",
              "    }\n",
              "\n",
              "    .dataframe tbody tr th {\n",
              "        vertical-align: top;\n",
              "    }\n",
              "\n",
              "    .dataframe thead th {\n",
              "        text-align: right;\n",
              "    }\n",
              "</style>\n",
              "<table border=\"1\" class=\"dataframe\">\n",
              "  <thead>\n",
              "    <tr style=\"text-align: right;\">\n",
              "      <th></th>\n",
              "      <th>Sentence</th>\n",
              "      <th>Technique</th>\n",
              "    </tr>\n",
              "  </thead>\n",
              "  <tbody>\n",
              "    <tr>\n",
              "      <th>0</th>\n",
              "      <td>The next transmission could be more pronounced...</td>\n",
              "      <td>Appeal_to_Authority</td>\n",
              "    </tr>\n",
              "    <tr>\n",
              "      <th>1</th>\n",
              "      <td>when (the plague) comes again it starts from m...</td>\n",
              "      <td>Appeal_to_Authority</td>\n",
              "    </tr>\n",
              "    <tr>\n",
              "      <th>2</th>\n",
              "      <td>appeared</td>\n",
              "      <td>Doubt</td>\n",
              "    </tr>\n",
              "    <tr>\n",
              "      <th>3</th>\n",
              "      <td>a very, very different</td>\n",
              "      <td>Repetition</td>\n",
              "    </tr>\n",
              "    <tr>\n",
              "      <th>4</th>\n",
              "      <td>He also pointed to the presence of the pneumon...</td>\n",
              "      <td>Appeal_to_fear-prejudice</td>\n",
              "    </tr>\n",
              "    <tr>\n",
              "      <th>...</th>\n",
              "      <td>...</td>\n",
              "      <td>...</td>\n",
              "    </tr>\n",
              "    <tr>\n",
              "      <th>6124</th>\n",
              "      <td>the Left killed comedy</td>\n",
              "      <td>Slogans</td>\n",
              "    </tr>\n",
              "    <tr>\n",
              "      <th>6125</th>\n",
              "      <td>no one looks in the mirror and thinks, ‘this b...</td>\n",
              "      <td>Exaggeration,Minimisation</td>\n",
              "    </tr>\n",
              "    <tr>\n",
              "      <th>6126</th>\n",
              "      <td>Columbia snowflakes</td>\n",
              "      <td>Name_Calling,Labeling</td>\n",
              "    </tr>\n",
              "    <tr>\n",
              "      <th>6127</th>\n",
              "      <td>Comrades, these jokes you have been listening ...</td>\n",
              "      <td>Exaggeration,Minimisation</td>\n",
              "    </tr>\n",
              "    <tr>\n",
              "      <th>6128</th>\n",
              "      <td>I'm sure Patel felt very, like, accepted</td>\n",
              "      <td>Exaggeration,Minimisation</td>\n",
              "    </tr>\n",
              "  </tbody>\n",
              "</table>\n",
              "<p>6129 rows × 2 columns</p>\n",
              "</div>"
            ],
            "text/plain": [
              "                                               Sentence                  Technique\n",
              "0     The next transmission could be more pronounced...        Appeal_to_Authority\n",
              "1     when (the plague) comes again it starts from m...        Appeal_to_Authority\n",
              "2                                              appeared                      Doubt\n",
              "3                                a very, very different                 Repetition\n",
              "4     He also pointed to the presence of the pneumon...   Appeal_to_fear-prejudice\n",
              "...                                                 ...                        ...\n",
              "6124                             the Left killed comedy                    Slogans\n",
              "6125  no one looks in the mirror and thinks, ‘this b...  Exaggeration,Minimisation\n",
              "6126                                Columbia snowflakes      Name_Calling,Labeling\n",
              "6127  Comrades, these jokes you have been listening ...  Exaggeration,Minimisation\n",
              "6128           I'm sure Patel felt very, like, accepted  Exaggeration,Minimisation\n",
              "\n",
              "[6129 rows x 2 columns]"
            ]
          },
          "metadata": {
            "tags": []
          },
          "execution_count": 55
        }
      ]
    },
    {
      "cell_type": "markdown",
      "metadata": {
        "id": "Cq7t2Hnpz7Ax",
        "colab_type": "text"
      },
      "source": [
        "Step 7: Plot data per class\n"
      ]
    },
    {
      "cell_type": "code",
      "metadata": {
        "id": "cc45zINOzfie",
        "colab_type": "code",
        "outputId": "f7476262-9184-4f06-d8fd-41b2f03ba9c0",
        "colab": {
          "base_uri": "https://localhost:8080/",
          "height": 450
        }
      },
      "source": [
        "propoganda_techniques_tags = ['Appeal_to_Authority','Name_Calling,Labeling','Slogans', 'Loaded_Language','Appeal_to_fear-prejudice','Repetition','Doubt','Exaggeration,Minimisation','Flag-Waving','Causal_Oversimplification','Whataboutism,Straw_Men,Red_Herring','Black-and-White_Fallacy','Thought-terminating_Cliches','Bandwagon,Reductio_ad_hitlerum']\n",
        "plt.figure(figsize=(10,4))\n",
        "df.Technique.value_counts().plot(kind='bar');"
      ],
      "execution_count": 0,
      "outputs": [
        {
          "output_type": "display_data",
          "data": {
            "image/png": "[encoded data removed]",
            "text/plain": [
              "<Figure size 720x288 with 1 Axes>"
            ]
          },
          "metadata": {
            "tags": []
          }
        }
      ]
    },
    {
      "cell_type": "markdown",
      "metadata": {
        "id": "vuC5arlT2dAG",
        "colab_type": "text"
      },
      "source": [
        "Step 8: inspect language by checking sentence - tag pair "
      ]
    },
    {
      "cell_type": "code",
      "metadata": {
        "id": "DJA26xl12X1I",
        "colab_type": "code",
        "outputId": "c6425b5f-37fb-463a-cfff-e718fb423b87",
        "colab": {
          "base_uri": "https://localhost:8080/",
          "height": 52
        }
      },
      "source": [
        "def print_plot(index):\n",
        "    example = df[df.index == index][['Sentence', 'Technique']].values[0]\n",
        "    if len(example) > 0:\n",
        "        print(example[0])\n",
        "        print('Tag:', example[1])\n",
        "\n",
        "print_plot(20)"
      ],
      "execution_count": 0,
      "outputs": [
        {
          "output_type": "stream",
          "text": [
            "pinned blame for Steinle's death on illegal immigration and insufficiently aggressive deportation policies\n",
            "Tag: Causal_Oversimplification\n"
          ],
          "name": "stdout"
        }
      ]
    },
    {
      "cell_type": "code",
      "metadata": {
        "id": "XTGqWP_y4bAN",
        "colab_type": "code",
        "outputId": "eeee8f71-b57d-4be1-9e37-38f260e3090e",
        "colab": {
          "base_uri": "https://localhost:8080/",
          "height": 69
        }
      },
      "source": [
        "import nltk\n",
        "nltk.download(\"stopwords\")"
      ],
      "execution_count": 0,
      "outputs": [
        {
          "output_type": "stream",
          "text": [
            "[nltk_data] Downloading package stopwords to /root/nltk_data...\n",
            "[nltk_data]   Package stopwords is already up-to-date!\n"
          ],
          "name": "stdout"
        },
        {
          "output_type": "execute_result",
          "data": {
            "text/plain": [
              "True"
            ]
          },
          "metadata": {
            "tags": []
          },
          "execution_count": 58
        }
      ]
    },
    {
      "cell_type": "markdown",
      "metadata": {
        "id": "MD7nic985ST_",
        "colab_type": "text"
      },
      "source": [
        "Step 10: Prepocessing - even if the data is very clean #to check\n",
        "\n",
        "---\n",
        "\n"
      ]
    },
    {
      "cell_type": "code",
      "metadata": {
        "id": "0GTdwNFT3V9G",
        "colab_type": "code",
        "outputId": "27486f45-2852-431c-d549-3a2bb4e206b8",
        "colab": {
          "base_uri": "https://localhost:8080/",
          "height": 52
        }
      },
      "source": [
        "REPLACE_BY_SPACE_RE = re.compile('[/(){}\\[\\]\\|@,;]')\n",
        "#BAD_SYMBOLS_RE = re.compile('[^0-9a-z #+_]') \n",
        "STOPWORDS = set(stopwords.words('english'))\n",
        "\n",
        "def clean_text(text):\n",
        "    text = text.lower() # lowercase text\n",
        "    text = REPLACE_BY_SPACE_RE.sub(' ', text) # replace REPLACE_BY_SPACE_RE symbols by space in text\n",
        "    #text = BAD_SYMBOLS_RE.sub('', text) # delete symbols which are in BAD_SYMBOLS_RE from text\n",
        "    text = ' '.join(word for word in text.split() if word not in STOPWORDS) # delete stopwors from text - not sure if we want to do this\n",
        "    return text\n",
        "    \n",
        "df['Sentence'] = df['Sentence'].apply(clean_text)\n",
        "print_plot(20)"
      ],
      "execution_count": 0,
      "outputs": [
        {
          "output_type": "stream",
          "text": [
            "pinned blame steinle's death illegal immigration insufficiently aggressive deportation policies\n",
            "Tag: Causal_Oversimplification\n"
          ],
          "name": "stdout"
        }
      ]
    },
    {
      "cell_type": "markdown",
      "metadata": {
        "id": "yRqttIZL58-u",
        "colab_type": "text"
      },
      "source": [
        "step 11: Count number of token post preprocessing"
      ]
    },
    {
      "cell_type": "code",
      "metadata": {
        "id": "vhJrJT9I4xY4",
        "colab_type": "code",
        "outputId": "e9f88abd-e4f3-4ae6-fb4d-6da1b52fac3b",
        "colab": {
          "base_uri": "https://localhost:8080/",
          "height": 34
        }
      },
      "source": [
        "df['Sentence'].apply(lambda x: len(x.split(' '))).sum()"
      ],
      "execution_count": 0,
      "outputs": [
        {
          "output_type": "execute_result",
          "data": {
            "text/plain": [
              "28602"
            ]
          },
          "metadata": {
            "tags": []
          },
          "execution_count": 60
        }
      ]
    },
    {
      "cell_type": "markdown",
      "metadata": {
        "id": "m5RpxsQ27O1v",
        "colab_type": "text"
      },
      "source": [
        "Step 12: split the training data into train and test sets"
      ]
    },
    {
      "cell_type": "code",
      "metadata": {
        "id": "nQfi331H6RE0",
        "colab_type": "code",
        "colab": {}
      },
      "source": [
        "X = df.Sentence\n",
        "y = df.Technique\n",
        "#random_state sets a seed, the train-test splits are always deterministic. If the seed is not set, train-test splits are different each time\n",
        "X_train, X_test, y_train, y_test = train_test_split(X, y, test_size=0.2, random_state = 42) "
      ],
      "execution_count": 0,
      "outputs": []
    },
    {
      "cell_type": "code",
      "metadata": {
        "id": "JNlHkFcs7go-",
        "colab_type": "code",
        "outputId": "a2c183e0-01ec-486e-d35c-03cb6b508b30",
        "colab": {
          "base_uri": "https://localhost:8080/",
          "height": 252
        }
      },
      "source": [
        "from sklearn.preprocessing import OneHotEncoder\n",
        "import numpy as np \n",
        "enc = OneHotEncoder(handle_unknown='ignore')\n",
        "print(X_train.shape)\n",
        "y_test= np.idxmax(y_test, axis=1)\n",
        "#X_train = X_train.reshape(-1, 1)\n",
        "#enc.fit(X)"
      ],
      "execution_count": 0,
      "outputs": [
        {
          "output_type": "stream",
          "text": [
            "(4903,)\n"
          ],
          "name": "stdout"
        },
        {
          "output_type": "error",
          "ename": "AttributeError",
          "evalue": "ignored",
          "traceback": [
            "\u001b[0;31m---------------------------------------------------------------------------\u001b[0m",
            "\u001b[0;31mAttributeError\u001b[0m                            Traceback (most recent call last)",
            "\u001b[0;32m<ipython-input-62-831d986d1edb>\u001b[0m in \u001b[0;36m<module>\u001b[0;34m()\u001b[0m\n\u001b[1;32m      3\u001b[0m \u001b[0menc\u001b[0m \u001b[0;34m=\u001b[0m \u001b[0mOneHotEncoder\u001b[0m\u001b[0;34m(\u001b[0m\u001b[0mhandle_unknown\u001b[0m\u001b[0;34m=\u001b[0m\u001b[0;34m'ignore'\u001b[0m\u001b[0;34m)\u001b[0m\u001b[0;34m\u001b[0m\u001b[0;34m\u001b[0m\u001b[0m\n\u001b[1;32m      4\u001b[0m \u001b[0mprint\u001b[0m\u001b[0;34m(\u001b[0m\u001b[0mX_train\u001b[0m\u001b[0;34m.\u001b[0m\u001b[0mshape\u001b[0m\u001b[0;34m)\u001b[0m\u001b[0;34m\u001b[0m\u001b[0;34m\u001b[0m\u001b[0m\n\u001b[0;32m----> 5\u001b[0;31m \u001b[0my_test\u001b[0m\u001b[0;34m=\u001b[0m \u001b[0mnp\u001b[0m\u001b[0;34m.\u001b[0m\u001b[0midxmax\u001b[0m\u001b[0;34m(\u001b[0m\u001b[0my_test\u001b[0m\u001b[0;34m,\u001b[0m \u001b[0maxis\u001b[0m\u001b[0;34m=\u001b[0m\u001b[0;36m1\u001b[0m\u001b[0;34m)\u001b[0m\u001b[0;34m\u001b[0m\u001b[0;34m\u001b[0m\u001b[0m\n\u001b[0m\u001b[1;32m      6\u001b[0m \u001b[0;31m#X_train = X_train.reshape(-1, 1)\u001b[0m\u001b[0;34m\u001b[0m\u001b[0;34m\u001b[0m\u001b[0;34m\u001b[0m\u001b[0m\n\u001b[1;32m      7\u001b[0m \u001b[0;31m#enc.fit(X)\u001b[0m\u001b[0;34m\u001b[0m\u001b[0;34m\u001b[0m\u001b[0;34m\u001b[0m\u001b[0m\n",
            "\u001b[0;31mAttributeError\u001b[0m: module 'numpy' has no attribute 'idxmax'"
          ]
        }
      ]
    },
    {
      "cell_type": "markdown",
      "metadata": {
        "id": "KIITsuky7UkH",
        "colab_type": "text"
      },
      "source": [
        "Step 13: create a ML pipeline where we stack the Sentence vectorisation (TFIDF, CountVec) and the model - This structure will repaet later but we'll change the models"
      ]
    },
    {
      "cell_type": "code",
      "metadata": {
        "id": "XOt_e4BT7NTC",
        "colab_type": "code",
        "colab": {}
      },
      "source": [
        "\n",
        "\n",
        "from sklearn.naive_bayes import MultinomialNB\n",
        "from sklearn.pipeline import Pipeline\n",
        "from sklearn.feature_extraction.text import TfidfTransformer\n",
        "lr = LogisticRegression()\n",
        "\n",
        "nb = Pipeline([('vect', CountVectorizer()),\n",
        "               ('tfidf', TfidfTransformer()),\n",
        "               ('clf', MultinomialNB()),\n",
        "              ])\n",
        "nb.fit(X_train, y_train)\n",
        "\n"
      ],
      "execution_count": 0,
      "outputs": []
    },
    {
      "cell_type": "code",
      "metadata": {
        "id": "YTsEf2ycCN5T",
        "colab_type": "code",
        "colab": {}
      },
      "source": [
        "import imblearn \n",
        "from imblearn.pipeline import make_pipeline\n",
        "from imblearn.over_sampling import RandomOverSampler\n",
        "from sklearn.feature_extraction.text import TfidfVectorizer\n",
        "\n",
        "tvec = TfidfVectorizer(stop_words = None, max_features=100000, ngram_range=(1, 3))\n",
        "\n",
        "ROS_pipeline = make_pipeline(tvec, RandomOverSampler(random_state=777),lr)\n",
        "\n",
        "tv = TfidfVectorizer(stop_words=None, max_features=100000)\n",
        "testing_tfidf = tv.fit_transform(X_train)\n",
        "ros = RandomOverSampler(random_state=777)\n",
        "X_ROS, y_ROS = ros.fit_sample(testing_tfidf, y_train)\n",
        "pd.DataFrame(testing_tfidf.todense(), columns=tv.get_feature_names())"
      ],
      "execution_count": 0,
      "outputs": []
    },
    {
      "cell_type": "code",
      "metadata": {
        "id": "fJgizLDqClQM",
        "colab_type": "code",
        "colab": {}
      },
      "source": [
        "pd.DataFrame(X_ROS.todense(), columns=tv.get_feature_names())\n",
        "\n",
        "y_ROS"
      ],
      "execution_count": 0,
      "outputs": []
    },
    {
      "cell_type": "code",
      "metadata": {
        "id": "XtznMejBcyMg",
        "colab_type": "code",
        "colab": {}
      },
      "source": [
        "from sklearn.preprocessing import MultiLabelBinarizer\n",
        "import imblearn \n",
        "from imblearn.over_sampling import SMOTE \n",
        "\n",
        "mlb = MultiLabelBinarizer()\n",
        "mlb_transform = mlb.fit_transform(df[\"Technique\"].str.split(\",\"))\n",
        "print(mlb_transform)\n",
        "print(mlb.classes_)\n",
        "\n",
        "smote = SMOTE('minority')\n",
        "\n",
        "x_sm, y_sm = smote.fit_sample(X_ROS, y_ROS)\n",
        "#print(x_sm.shape, y_sm.shape)\n",
        "pd.DataFrame(x_sm.todense(), columns=tv.get_feature_names())"
      ],
      "execution_count": 0,
      "outputs": []
    },
    {
      "cell_type": "code",
      "metadata": {
        "id": "jBM4cJOaChCR",
        "colab_type": "code",
        "colab": {}
      },
      "source": [
        ""
      ],
      "execution_count": 0,
      "outputs": []
    },
    {
      "cell_type": "markdown",
      "metadata": {
        "id": "75BG3fQiGncy",
        "colab_type": "text"
      },
      "source": [
        "Step 14: Check predictions metrics"
      ]
    },
    {
      "cell_type": "code",
      "metadata": {
        "id": "85tK0IjB75Ka",
        "colab_type": "code",
        "colab": {}
      },
      "source": [
        "from sklearn.metrics import classification_report\n",
        "from sklearn.metrics import f1_score\n",
        "\n",
        "y_pred = nb.predict(X_test)\n",
        "\n",
        "print('accuracy %s' % accuracy_score(y_pred, y_test))\n",
        "print(classification_report(y_test, y_pred, target_names=propoganda_techniques_tags))\n",
        "print(f1_score(y_test, y_pred, average='weighted'))"
      ],
      "execution_count": 0,
      "outputs": []
    },
    {
      "cell_type": "markdown",
      "metadata": {
        "id": "qwOtt1Q-GuuJ",
        "colab_type": "text"
      },
      "source": [
        "Step 15: Baseline with Logistic Regression\n"
      ]
    },
    {
      "cell_type": "code",
      "metadata": {
        "id": "wo6r8CwvG2gG",
        "colab_type": "code",
        "colab": {}
      },
      "source": [
        "from sklearn.linear_model import LogisticRegression\n",
        "\n",
        "logreg = Pipeline([('vect', CountVectorizer()),\n",
        "                ('tfidf', TfidfTransformer()),\n",
        "                ('clf', LogisticRegression(solver='lbfgs', multi_class='auto')),\n",
        "               ])\n",
        "logreg.fit(X_train, y_train)\n",
        "\n",
        "y_pred = logreg.predict(X_test)\n",
        "\n",
        "print('accuracy %s' % accuracy_score(y_pred, y_test))\n",
        "print(classification_report(y_test, y_pred, target_names=propoganda_techniques_tags))\n",
        "print(f1_score(y_test, y_pred, average='weighted'))"
      ],
      "execution_count": 0,
      "outputs": []
    },
    {
      "cell_type": "markdown",
      "metadata": {
        "id": "COOOxjtKJTKL",
        "colab_type": "text"
      },
      "source": [
        "Baseline with Linear classifiers (SVM, logistic regression, a.o.) with SGD training"
      ]
    },
    {
      "cell_type": "code",
      "metadata": {
        "id": "yq0zclyoHieQ",
        "colab_type": "code",
        "colab": {}
      },
      "source": [
        "from sklearn.linear_model import SGDClassifier\n",
        "tfidf_word = TfidfVectorizer(ngram_range=(1, 3))\n",
        "tfidf_char = TfidfVectorizer(analyzer='char', ngram_range=(1, 3))\n",
        "count_word = CountVectorizer(ngram_range=(1, 3))\n",
        "count_char = CountVectorizer(analyzer='word', ngram_range=(1, 3))\n",
        "sgd = Pipeline([\n",
        "                ('features', FeatureUnion([\n",
        "                                          ('vect',count_word),\n",
        "                                          ('tfidf', tfidf_word)\n",
        "                                          ])),\n",
        "                ('clf', SGDClassifier(loss='hinge', penalty='l2',alpha=1e-3, random_state=42, max_iter=5, tol=None)),\n",
        "               ])\n",
        "sgd.fit(X_train, y_train)\n",
        "\n",
        "y_pred = sgd.predict(X_test)\n",
        "\n",
        "print('accuracy %s' % accuracy_score(y_pred, y_test))\n",
        "print(classification_report(y_test, y_pred, target_names=propoganda_techniques_tags))\n",
        "print(f1_score(y_test, y_pred, average='macro'))"
      ],
      "execution_count": 0,
      "outputs": []
    },
    {
      "cell_type": "markdown",
      "metadata": {
        "id": "iWOVIjNnRPx1",
        "colab_type": "text"
      },
      "source": [
        "Work in progress under here"
      ]
    },
    {
      "cell_type": "code",
      "metadata": {
        "id": "cZFGvcyUyftL",
        "colab_type": "code",
        "colab": {}
      },
      "source": [
        "import gensim\n",
        "from gensim.models import Word2Vec"
      ],
      "execution_count": 0,
      "outputs": []
    },
    {
      "cell_type": "code",
      "metadata": {
        "id": "Oiqa8s-X17-4",
        "colab_type": "code",
        "colab": {}
      },
      "source": [
        "!wget -P /root/input/ -c \"https://s3.amazonaws.com/dl4j-distribution/GoogleNews-vectors-negative300.bin.gz\""
      ],
      "execution_count": 0,
      "outputs": []
    },
    {
      "cell_type": "code",
      "metadata": {
        "id": "GcJtFyIN1W-T",
        "colab_type": "code",
        "colab": {}
      },
      "source": [
        "embeddings = '/root/input/GoogleNews-vectors-negative300.bin.gz' # from above\n",
        "from gensim.models import Word2Vec\n",
        "\n",
        "wv = gensim.models.KeyedVectors.load_word2vec_format(embeddings, binary=True)\n",
        "wv.init_sims(replace=True)"
      ],
      "execution_count": 0,
      "outputs": []
    },
    {
      "cell_type": "code",
      "metadata": {
        "id": "msjeu3kMAfSn",
        "colab_type": "code",
        "colab": {}
      },
      "source": [
        "def word_averaging(wv, words):\n",
        "    all_words, mean = set(), []\n",
        "    \n",
        "    for word in words:\n",
        "        if isinstance(word, np.ndarray):\n",
        "            mean.append(word)\n",
        "        elif word in wv.vocab:\n",
        "            mean.append(wv.syn0norm[wv.vocab[word].index])\n",
        "            all_words.add(wv.vocab[word].index)\n",
        "\n",
        "    if not mean:\n",
        "        print(\"cannot compute similarity with no input %s\", words)\n",
        "        # FIXME: remove these examples in pre-processing\n",
        "        return np.zeros(wv.vector_size,)\n",
        "\n",
        "    mean = gensim.matutils.unitvec(np.array(mean).mean(axis=0)).astype(np.float32)\n",
        "    return mean\n",
        "\n",
        "def  word_averaging_list(wv, text_list):\n",
        "    return np.vstack([word_averaging(wv, post) for post in text_list])"
      ],
      "execution_count": 0,
      "outputs": []
    },
    {
      "cell_type": "code",
      "metadata": {
        "id": "BQI1pM2vAnWF",
        "colab_type": "code",
        "colab": {}
      },
      "source": [
        "import nltk\n",
        "import numpy as np\n",
        "nltk.download('all')\n",
        "def w2v_tokenize_text(text):\n",
        "    tokens = []\n",
        "    for sent in nltk.sent_tokenize(text, language='english'):\n",
        "        for word in nltk.word_tokenize(sent, language='english'):\n",
        "            if len(word) < 2:\n",
        "                continue\n",
        "            tokens.append(word)\n",
        "    return tokens\n",
        "    \n",
        "train, test = train_test_split(df, test_size=0.2, random_state = 42)\n",
        "\n",
        "test_tokenized = test.apply(lambda r: w2v_tokenize_text(r['Sentence']), axis=1).values\n",
        "train_tokenized = train.apply(lambda r: w2v_tokenize_text(r['Sentence']), axis=1).values\n",
        "\n",
        "X_train_word_average = word_averaging_list(wv,train_tokenized)\n",
        "X_test_word_average = word_averaging_list(wv,test_tokenized)"
      ],
      "execution_count": 0,
      "outputs": []
    },
    {
      "cell_type": "code",
      "metadata": {
        "id": "TXBJPihExDBc",
        "colab_type": "code",
        "colab": {}
      },
      "source": [
        "from sklearn.linear_model import LogisticRegression\n",
        "logreg = LogisticRegression(n_jobs=1, C=1e5)\n",
        "logreg = logreg.fit(X_train_word_average, train['Technique'])\n",
        "y_pred = logreg.predict(X_test_word_average)\n",
        "print('accuracy %s' % accuracy_score(y_pred, test.Technique))\n",
        "print(classification_report(test.Technique, y_pred))"
      ],
      "execution_count": 0,
      "outputs": []
    },
    {
      "cell_type": "code",
      "metadata": {
        "id": "NESP-7kFq2CU",
        "colab_type": "code",
        "colab": {}
      },
      "source": [
        "from sklearn.preprocessing import MultiLabelBinarizer\n",
        "\n",
        "mlb = MultiLabelBinarizer()\n",
        "print(mlb.fit_transform(df[\"Technique\"].str.split(\",\")))\n",
        "print(mlb.classes_)\n",
        "\n",
        "import imblearn \n",
        "from imblearn.over_sampling import SMOTE \n",
        "\n",
        "smote = SMOTE('minority')\n",
        "\n",
        "x_sm, y_sm = smote.fit_sample(X_train, y_train)\n",
        "#print(x_sm.shape, y_sm.shape)\n",
        "pd.DataFrame(x_sm.todense(), columns=tv.get_feature_names())"
      ],
      "execution_count": 0,
      "outputs": []
    },
    {
      "cell_type": "code",
      "metadata": {
        "id": "lLpq9I54SKae",
        "colab_type": "code",
        "colab": {}
      },
      "source": [
        ""
      ],
      "execution_count": 0,
      "outputs": []
    }
  ]
}